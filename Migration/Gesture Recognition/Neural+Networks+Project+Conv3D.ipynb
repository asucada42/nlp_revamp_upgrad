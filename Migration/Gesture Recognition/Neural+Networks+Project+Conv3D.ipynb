{
 "cells": [
  {
   "cell_type": "markdown",
   "metadata": {},
   "source": [
    "# Gesture Recognition\n",
    "In this group project, you are going to build a 3D Conv model that will be able to predict the 5 gestures correctly. Please import the following libraries to get started."
   ]
  },
  {
   "cell_type": "code",
   "execution_count": 2,
   "metadata": {},
   "outputs": [
    {
     "name": "stdout",
     "output_type": "stream",
     "text": [
      "Requirement already satisfied: scipy==1.1.0 in /usr/local/lib/python3.6/dist-packages (1.1.0)\n",
      "Requirement already satisfied: numpy>=1.8.2 in /usr/local/lib/python3.6/dist-packages (from scipy==1.1.0) (1.17.3)\n",
      "\u001b[33mWARNING: You are using pip version 20.2.4; however, version 21.0.1 is available.\n",
      "You should consider upgrading via the '/usr/bin/python -m pip install --upgrade pip' command.\u001b[0m\n"
     ]
    }
   ],
   "source": [
    "# we need scipy version 1.1.0 to run this notebook\n",
    "!pip install scipy==1.1.0"
   ]
  },
  {
   "cell_type": "code",
   "execution_count": 3,
   "metadata": {},
   "outputs": [],
   "source": [
    "import numpy as np\n",
    "import os\n",
    "from scipy.misc import imread, imresize\n",
    "import datetime\n",
    "import os"
   ]
  },
  {
   "cell_type": "markdown",
   "metadata": {},
   "source": [
    "We set the random seed so that the results don't vary drastically."
   ]
  },
  {
   "cell_type": "code",
   "execution_count": 6,
   "metadata": {},
   "outputs": [],
   "source": [
    "np.random.seed(30)\n",
    "import random as rn\n",
    "rn.seed(30)\n",
    "from tensorflow.keras import backend as K\n",
    "import tensorflow as tf\n",
    "tf.random.set_seed(30)"
   ]
  },
  {
   "cell_type": "markdown",
   "metadata": {},
   "source": [
    "In this block, you read the folder names for training and validation. You also set the `batch_size` here. Note that you set the batch size in such a way that you are able to use the GPU in full capacity. You keep increasing the batch size until the machine throws an error."
   ]
  },
  {
   "cell_type": "code",
   "execution_count": null,
   "metadata": {},
   "outputs": [],
   "source": [
    "# download the dataset if not downloaded already\n",
    "!wget https://datasetsgun.s3.amazonaws.com/upgrad/Project_data.zip\n",
    "!unzip Project_data.zip"
   ]
  },
  {
   "cell_type": "code",
   "execution_count": 7,
   "metadata": {},
   "outputs": [],
   "source": [
    "train_doc = np.random.permutation(open('Project_data/train.csv').readlines())\n",
    "val_doc = np.random.permutation(open('Project_data/val.csv').readlines())\n",
    "batch_size = 64"
   ]
  },
  {
   "cell_type": "markdown",
   "metadata": {},
   "source": [
    "## Generator\n",
    "This is one of the most important part of the code. The overall structure of the generator has been given. In the generator, you are going to preprocess the images as you have images of 2 different dimensions as well as create a batch of video frames. You have to experiment with some of the parts of the generator function such that you get high accuracy."
   ]
  },
  {
   "cell_type": "code",
   "execution_count": 8,
   "metadata": {},
   "outputs": [],
   "source": [
    "def generator(source_path, folder_list, batch_size):\n",
    "    print( 'Source path = ', source_path, '; batch size =', batch_size)\n",
    "    img_idx = [0,1,2,4,6,8,10,12,14,16,18,20,22,24,26,27,28,29]\n",
    "    while True:\n",
    "        t = np.random.permutation(folder_list)\n",
    "        num_batches = int(len(t)/batch_size)\n",
    "        for batch in range(num_batches):\n",
    "            batch_data = np.zeros((batch_size,18,84,84,3))\n",
    "            batch_labels = np.zeros((batch_size,5))\n",
    "            for folder in range(batch_size):\n",
    "                imgs = os.listdir(source_path+'/'+ t[folder + (batch*batch_size)].split(';')[0])\n",
    "                for idx,item in enumerate(img_idx):\n",
    "                    image = imread(source_path+'/'+ t[folder + (batch*batch_size)].strip().split(';')[0]+'/'+imgs[item]).astype(np.float32)\n",
    "                    if image.shape[1] == 160:\n",
    "                        image = imresize(image[:,20:140,:],(84,84)).astype(np.float32)\n",
    "                    else:\n",
    "                        image = imresize(image,(84,84)).astype(np.float32)\n",
    "                    \n",
    "                    batch_data[folder,idx,:,:,0] = image[:,:,0] - 104\n",
    "                    batch_data[folder,idx,:,:,1] = image[:,:,1] - 117\n",
    "                    batch_data[folder,idx,:,:,2] = image[:,:,2] - 123\n",
    "                    \n",
    "                batch_labels[folder, int(t[folder + (batch*batch_size)].strip().split(';')[2])] = 1\n",
    "            yield batch_data, batch_labels\n",
    "\n",
    "        if (len(t)%batch_size) != 0:\n",
    "            batch_data = np.zeros((len(t)%batch_size,18,84,84,3))\n",
    "            batch_labels = np.zeros((len(t)%batch_size,5))\n",
    "            for folder in range(len(t)%batch_size):\n",
    "                imgs = os.listdir(source_path+'/'+ t[folder + (num_batches*batch_size)].split(';')[0])\n",
    "                for idx,item in enumerate(img_idx):\n",
    "                    image = imread(source_path+'/'+ t[folder + (num_batches*batch_size)].strip().split(';')[0]+'/'+imgs[item]).astype(np.float32)\n",
    "                    if image.shape[1] == 160:\n",
    "                        image = imresize(image[:,20:140,:],(84,84)).astype(np.float32)\n",
    "                    else:\n",
    "                        image = imresize(image,(84,84)).astype(np.float32)\n",
    "\n",
    "                    batch_data[folder,idx,:,:,0] = image[:,:,0] - 104\n",
    "                    batch_data[folder,idx,:,:,1] = image[:,:,1] - 117\n",
    "                    batch_data[folder,idx,:,:,2] = image[:,:,2] - 123\n",
    "\n",
    "                batch_labels[folder, int(t[folder + (num_batches*batch_size)].strip().split(';')[2])] = 1\n",
    "\n",
    "            yield batch_data, batch_labels"
   ]
  },
  {
   "cell_type": "code",
   "execution_count": 10,
   "metadata": {},
   "outputs": [
    {
     "name": "stdout",
     "output_type": "stream",
     "text": [
      "# training sequences = 663\n",
      "# validation sequences = 100\n",
      "# epochs = 30\n"
     ]
    }
   ],
   "source": [
    "curr_dt_time = datetime.datetime.now()\n",
    "train_path = 'Project_data/train'\n",
    "val_path = 'Project_data/val'\n",
    "num_train_sequences = len(train_doc)\n",
    "print('# training sequences =', num_train_sequences)\n",
    "num_val_sequences = len(val_doc)\n",
    "print('# validation sequences =', num_val_sequences)\n",
    "num_epochs = 30\n",
    "print ('# epochs =', num_epochs)"
   ]
  },
  {
   "cell_type": "markdown",
   "metadata": {},
   "source": [
    "## Model\n",
    "Here you make the model using different functionalities that Keras provides. Remember to use `Conv3D` and `MaxPooling3D` and not `Conv2D` and `Maxpooling2D`. Also remember that the last layer is the softmax. Remember that the network is designed in such a way that the model is able to fit in the memory of the webcam."
   ]
  },
  {
   "cell_type": "code",
   "execution_count": 14,
   "metadata": {},
   "outputs": [],
   "source": [
    "from tensorflow.keras.models import Sequential\n",
    "from tensorflow.keras.layers import Dense, GRU, Dropout, Flatten, BatchNormalization, Activation\n",
    "from tensorflow.keras.layers import Conv3D, MaxPooling3D\n",
    "from tensorflow.keras.callbacks import ModelCheckpoint, ReduceLROnPlateau\n",
    "from tensorflow.keras import optimizers\n",
    "\n",
    "model = Sequential()\n",
    "model.add(Conv3D(64, (3,3,3), strides=(1,1,1), padding='same', input_shape=(18,84,84,3)))\n",
    "model.add(BatchNormalization())\n",
    "model.add(Activation('elu'))\n",
    "model.add(MaxPooling3D(pool_size=(2,2,1), strides=(2,2,1)))\n",
    "\n",
    "model.add(Conv3D(128, (3,3,3), strides=(1,1,1), padding='same'))\n",
    "model.add(BatchNormalization())\n",
    "model.add(Activation('elu'))\n",
    "model.add(MaxPooling3D(pool_size=(2,2,2), strides=(2,2,2)))\n",
    "\n",
    "# model.add(Dropout(0.25))\n",
    "\n",
    "model.add(Conv3D(256, (3,3,3), strides=(1,1,1), padding='same'))\n",
    "model.add(BatchNormalization())\n",
    "model.add(Activation('elu'))\n",
    "model.add(MaxPooling3D(pool_size=(2,2,2), strides=(2,2,2)))\n",
    "\n",
    "# model.add(Dropout(0.25))\n",
    "\n",
    "model.add(Conv3D(256, (3,3,3), strides=(1,1,1), padding='same'))\n",
    "model.add(BatchNormalization())\n",
    "model.add(Activation('elu'))\n",
    "model.add(MaxPooling3D(pool_size=(2,2,2), strides=(2,2,2)))\n",
    "\n",
    "model.add(Flatten())\n",
    "model.add(Dropout(0.5))\n",
    "model.add(Dense(512, activation='elu'))\n",
    "model.add(Dropout(0.5))\n",
    "model.add(Dense(5, activation='softmax'))"
   ]
  },
  {
   "cell_type": "markdown",
   "metadata": {},
   "source": [
    "Now that you have written the model, the next step is to `compile` the model. When you print the `summary` of the model, you'll see the total number of parameters you have to train."
   ]
  },
  {
   "cell_type": "code",
   "execution_count": 15,
   "metadata": {},
   "outputs": [
    {
     "name": "stdout",
     "output_type": "stream",
     "text": [
      "Model: \"sequential\"\n",
      "_________________________________________________________________\n",
      "Layer (type)                 Output Shape              Param #   \n",
      "=================================================================\n",
      "conv3d (Conv3D)              (None, 18, 84, 84, 64)    5248      \n",
      "_________________________________________________________________\n",
      "batch_normalization (BatchNo (None, 18, 84, 84, 64)    256       \n",
      "_________________________________________________________________\n",
      "activation (Activation)      (None, 18, 84, 84, 64)    0         \n",
      "_________________________________________________________________\n",
      "max_pooling3d (MaxPooling3D) (None, 9, 42, 84, 64)     0         \n",
      "_________________________________________________________________\n",
      "conv3d_1 (Conv3D)            (None, 9, 42, 84, 128)    221312    \n",
      "_________________________________________________________________\n",
      "batch_normalization_1 (Batch (None, 9, 42, 84, 128)    512       \n",
      "_________________________________________________________________\n",
      "activation_1 (Activation)    (None, 9, 42, 84, 128)    0         \n",
      "_________________________________________________________________\n",
      "max_pooling3d_1 (MaxPooling3 (None, 4, 21, 42, 128)    0         \n",
      "_________________________________________________________________\n",
      "conv3d_2 (Conv3D)            (None, 4, 21, 42, 256)    884992    \n",
      "_________________________________________________________________\n",
      "batch_normalization_2 (Batch (None, 4, 21, 42, 256)    1024      \n",
      "_________________________________________________________________\n",
      "activation_2 (Activation)    (None, 4, 21, 42, 256)    0         \n",
      "_________________________________________________________________\n",
      "max_pooling3d_2 (MaxPooling3 (None, 2, 10, 21, 256)    0         \n",
      "_________________________________________________________________\n",
      "conv3d_3 (Conv3D)            (None, 2, 10, 21, 256)    1769728   \n",
      "_________________________________________________________________\n",
      "batch_normalization_3 (Batch (None, 2, 10, 21, 256)    1024      \n",
      "_________________________________________________________________\n",
      "activation_3 (Activation)    (None, 2, 10, 21, 256)    0         \n",
      "_________________________________________________________________\n",
      "max_pooling3d_3 (MaxPooling3 (None, 1, 5, 10, 256)     0         \n",
      "_________________________________________________________________\n",
      "flatten (Flatten)            (None, 12800)             0         \n",
      "_________________________________________________________________\n",
      "dropout (Dropout)            (None, 12800)             0         \n",
      "_________________________________________________________________\n",
      "dense (Dense)                (None, 512)               6554112   \n",
      "_________________________________________________________________\n",
      "dropout_1 (Dropout)          (None, 512)               0         \n",
      "_________________________________________________________________\n",
      "dense_1 (Dense)              (None, 5)                 2565      \n",
      "=================================================================\n",
      "Total params: 9,440,773\n",
      "Trainable params: 9,439,365\n",
      "Non-trainable params: 1,408\n",
      "_________________________________________________________________\n",
      "None\n"
     ]
    }
   ],
   "source": [
    "sgd = optimizers.SGD(lr=0.001, decay=1e-6, momentum=0.7, nesterov=True)\n",
    "model.compile(optimizer=sgd, loss='categorical_crossentropy', metrics=['categorical_accuracy'])\n",
    "print (model.summary())"
   ]
  },
  {
   "cell_type": "markdown",
   "metadata": {},
   "source": [
    "Let us create the `train_generator` and the `val_generator` which will be used in `.fit_generator`."
   ]
  },
  {
   "cell_type": "code",
   "execution_count": 16,
   "metadata": {},
   "outputs": [],
   "source": [
    "train_generator = generator(train_path, train_doc, batch_size)\n",
    "val_generator = generator(val_path, val_doc, batch_size)"
   ]
  },
  {
   "cell_type": "code",
   "execution_count": 17,
   "metadata": {},
   "outputs": [
    {
     "name": "stdout",
     "output_type": "stream",
     "text": [
      "WARNING:tensorflow:`period` argument is deprecated. Please use `save_freq` to specify the frequency in number of batches seen.\n",
      "WARNING:tensorflow:`epsilon` argument is deprecated and will be removed, use `min_delta` instead.\n"
     ]
    }
   ],
   "source": [
    "model_name = 'model_init' + '_' + str(curr_dt_time).replace(' ','').replace(':','_') + '/'\n",
    "    \n",
    "if not os.path.exists(model_name):\n",
    "    os.mkdir(model_name)\n",
    "        \n",
    "filepath = model_name + 'model-{epoch:05d}-{loss:.5f}-{categorical_accuracy:.5f}-{val_loss:.5f}-{val_categorical_accuracy:.5f}.h5'\n",
    "\n",
    "checkpoint = ModelCheckpoint(filepath, monitor='val_loss', verbose=1, save_best_only=False, save_weights_only=False, mode='auto', period=1)\n",
    "\n",
    "LR = ReduceLROnPlateau(monitor='val_loss', factor=0.5, patience=2, verbose=1, mode='min', epsilon=0.0001, cooldown=0, min_lr=0.00001)\n",
    "callbacks_list = [checkpoint, LR]"
   ]
  },
  {
   "cell_type": "code",
   "execution_count": 18,
   "metadata": {},
   "outputs": [],
   "source": [
    "if (num_train_sequences%batch_size) == 0:\n",
    "    steps_per_epoch = int(num_train_sequences/batch_size)\n",
    "else:\n",
    "    steps_per_epoch = (num_train_sequences//batch_size) + 1\n",
    "\n",
    "if (num_val_sequences%batch_size) == 0:\n",
    "    validation_steps = int(num_val_sequences/batch_size)\n",
    "else:\n",
    "    validation_steps = (num_val_sequences//batch_size) + 1"
   ]
  },
  {
   "cell_type": "markdown",
   "metadata": {},
   "source": [
    "Let us now fit the model. This will start training the model and with the help of the checkpoints, you'll be able to save the model at the end of each epoch."
   ]
  },
  {
   "cell_type": "code",
   "execution_count": 19,
   "metadata": {},
   "outputs": [
    {
     "name": "stdout",
     "output_type": "stream",
     "text": [
      "WARNING:tensorflow:From <ipython-input-19-bd77c9c60c14>:3: Model.fit_generator (from tensorflow.python.keras.engine.training) is deprecated and will be removed in a future version.\n",
      "Instructions for updating:\n",
      "Please use Model.fit, which supports generators.\n",
      "Source path =  Project_data/train ; batch size = 64\n"
     ]
    },
    {
     "name": "stderr",
     "output_type": "stream",
     "text": [
      "/usr/local/lib/python3.6/dist-packages/ipykernel_launcher.py:13: DeprecationWarning: `imread` is deprecated!\n",
      "`imread` is deprecated in SciPy 1.0.0, and will be removed in 1.2.0.\n",
      "Use ``imageio.imread`` instead.\n",
      "  del sys.path[0]\n",
      "/usr/local/lib/python3.6/dist-packages/ipykernel_launcher.py:15: DeprecationWarning: `imresize` is deprecated!\n",
      "`imresize` is deprecated in SciPy 1.0.0, and will be removed in 1.2.0.\n",
      "Use ``skimage.transform.resize`` instead.\n",
      "  from ipykernel import kernelapp as app\n",
      "/usr/local/lib/python3.6/dist-packages/ipykernel_launcher.py:17: DeprecationWarning: `imresize` is deprecated!\n",
      "`imresize` is deprecated in SciPy 1.0.0, and will be removed in 1.2.0.\n",
      "Use ``skimage.transform.resize`` instead.\n"
     ]
    },
    {
     "name": "stdout",
     "output_type": "stream",
     "text": [
      "Epoch 1/30\n",
      " 9/11 [=======================>......] - ETA: 6s - loss: 4.3953 - categorical_accuracy: 0.2882"
     ]
    },
    {
     "name": "stderr",
     "output_type": "stream",
     "text": [
      "/usr/local/lib/python3.6/dist-packages/ipykernel_launcher.py:32: DeprecationWarning: `imread` is deprecated!\n",
      "`imread` is deprecated in SciPy 1.0.0, and will be removed in 1.2.0.\n",
      "Use ``imageio.imread`` instead.\n",
      "/usr/local/lib/python3.6/dist-packages/ipykernel_launcher.py:34: DeprecationWarning: `imresize` is deprecated!\n",
      "`imresize` is deprecated in SciPy 1.0.0, and will be removed in 1.2.0.\n",
      "Use ``skimage.transform.resize`` instead.\n",
      "/usr/local/lib/python3.6/dist-packages/ipykernel_launcher.py:36: DeprecationWarning: `imresize` is deprecated!\n",
      "`imresize` is deprecated in SciPy 1.0.0, and will be removed in 1.2.0.\n",
      "Use ``skimage.transform.resize`` instead.\n"
     ]
    },
    {
     "name": "stdout",
     "output_type": "stream",
     "text": [
      "11/11 [==============================] - ETA: 0s - loss: 4.1017 - categorical_accuracy: 0.2986Source path =  Project_data/val ; batch size = 64\n",
      "\n",
      "Epoch 00001: saving model to model_init_2021-04-1311_58_22.638350/model-00001-4.10169-0.29864-8.56852-0.23000.h5\n",
      "11/11 [==============================] - 45s 4s/step - loss: 4.1017 - categorical_accuracy: 0.2986 - val_loss: 8.5685 - val_categorical_accuracy: 0.2300\n",
      "Epoch 2/30\n",
      "11/11 [==============================] - ETA: 0s - loss: 1.6533 - categorical_accuracy: 0.5249\n",
      "Epoch 00002: saving model to model_init_2021-04-1311_58_22.638350/model-00002-1.65325-0.52489-6.73535-0.19000.h5\n",
      "11/11 [==============================] - 44s 4s/step - loss: 1.6533 - categorical_accuracy: 0.5249 - val_loss: 6.7353 - val_categorical_accuracy: 0.1900\n",
      "Epoch 3/30\n",
      "11/11 [==============================] - ETA: 0s - loss: 1.3432 - categorical_accuracy: 0.5747\n",
      "Epoch 00003: saving model to model_init_2021-04-1311_58_22.638350/model-00003-1.34318-0.57466-6.31739-0.23000.h5\n",
      "11/11 [==============================] - 45s 4s/step - loss: 1.3432 - categorical_accuracy: 0.5747 - val_loss: 6.3174 - val_categorical_accuracy: 0.2300\n",
      "Epoch 4/30\n",
      "11/11 [==============================] - ETA: 0s - loss: 1.0297 - categorical_accuracy: 0.6652\n",
      "Epoch 00004: saving model to model_init_2021-04-1311_58_22.638350/model-00004-1.02970-0.66516-4.38214-0.38000.h5\n",
      "11/11 [==============================] - 43s 4s/step - loss: 1.0297 - categorical_accuracy: 0.6652 - val_loss: 4.3821 - val_categorical_accuracy: 0.3800\n",
      "Epoch 5/30\n",
      "11/11 [==============================] - ETA: 0s - loss: 0.8540 - categorical_accuracy: 0.6938\n",
      "Epoch 00005: saving model to model_init_2021-04-1311_58_22.638350/model-00005-0.85401-0.69382-4.29823-0.36000.h5\n",
      "11/11 [==============================] - 47s 4s/step - loss: 0.8540 - categorical_accuracy: 0.6938 - val_loss: 4.2982 - val_categorical_accuracy: 0.3600\n",
      "Epoch 6/30\n",
      "11/11 [==============================] - ETA: 0s - loss: 0.7704 - categorical_accuracy: 0.7330\n",
      "Epoch 00006: saving model to model_init_2021-04-1311_58_22.638350/model-00006-0.77035-0.73303-3.63123-0.31000.h5\n",
      "11/11 [==============================] - 44s 4s/step - loss: 0.7704 - categorical_accuracy: 0.7330 - val_loss: 3.6312 - val_categorical_accuracy: 0.3100\n",
      "Epoch 7/30\n",
      "11/11 [==============================] - ETA: 0s - loss: 0.7278 - categorical_accuracy: 0.7541\n",
      "Epoch 00007: saving model to model_init_2021-04-1311_58_22.638350/model-00007-0.72783-0.75415-2.15513-0.49000.h5\n",
      "11/11 [==============================] - 46s 4s/step - loss: 0.7278 - categorical_accuracy: 0.7541 - val_loss: 2.1551 - val_categorical_accuracy: 0.4900\n",
      "Epoch 8/30\n",
      "11/11 [==============================] - ETA: 0s - loss: 0.6794 - categorical_accuracy: 0.7511\n",
      "Epoch 00008: saving model to model_init_2021-04-1311_58_22.638350/model-00008-0.67941-0.75113-1.32787-0.61000.h5\n",
      "11/11 [==============================] - 45s 4s/step - loss: 0.6794 - categorical_accuracy: 0.7511 - val_loss: 1.3279 - val_categorical_accuracy: 0.6100\n",
      "Epoch 9/30\n",
      "11/11 [==============================] - ETA: 0s - loss: 0.6040 - categorical_accuracy: 0.7768\n",
      "Epoch 00009: saving model to model_init_2021-04-1311_58_22.638350/model-00009-0.60397-0.77677-1.45722-0.56000.h5\n",
      "11/11 [==============================] - 46s 4s/step - loss: 0.6040 - categorical_accuracy: 0.7768 - val_loss: 1.4572 - val_categorical_accuracy: 0.5600\n",
      "Epoch 10/30\n",
      "11/11 [==============================] - ETA: 0s - loss: 0.4939 - categorical_accuracy: 0.8296\n",
      "Epoch 00010: saving model to model_init_2021-04-1311_58_22.638350/model-00010-0.49393-0.82956-1.33063-0.63000.h5\n",
      "\n",
      "Epoch 00010: ReduceLROnPlateau reducing learning rate to 0.0005000000237487257.\n",
      "11/11 [==============================] - 45s 4s/step - loss: 0.4939 - categorical_accuracy: 0.8296 - val_loss: 1.3306 - val_categorical_accuracy: 0.6300\n",
      "Epoch 11/30\n",
      "11/11 [==============================] - ETA: 0s - loss: 0.4959 - categorical_accuracy: 0.8250\n",
      "Epoch 00011: saving model to model_init_2021-04-1311_58_22.638350/model-00011-0.49588-0.82504-0.76829-0.77000.h5\n",
      "11/11 [==============================] - 46s 4s/step - loss: 0.4959 - categorical_accuracy: 0.8250 - val_loss: 0.7683 - val_categorical_accuracy: 0.7700\n",
      "Epoch 12/30\n",
      "11/11 [==============================] - ETA: 0s - loss: 0.4224 - categorical_accuracy: 0.8446\n",
      "Epoch 00012: saving model to model_init_2021-04-1311_58_22.638350/model-00012-0.42243-0.84465-0.72533-0.74000.h5\n",
      "11/11 [==============================] - 44s 4s/step - loss: 0.4224 - categorical_accuracy: 0.8446 - val_loss: 0.7253 - val_categorical_accuracy: 0.7400\n",
      "Epoch 13/30\n",
      "11/11 [==============================] - ETA: 0s - loss: 0.3949 - categorical_accuracy: 0.8462\n",
      "Epoch 00013: saving model to model_init_2021-04-1311_58_22.638350/model-00013-0.39491-0.84615-0.68904-0.76000.h5\n",
      "11/11 [==============================] - 46s 4s/step - loss: 0.3949 - categorical_accuracy: 0.8462 - val_loss: 0.6890 - val_categorical_accuracy: 0.7600\n",
      "Epoch 14/30\n",
      "11/11 [==============================] - ETA: 0s - loss: 0.3700 - categorical_accuracy: 0.8673\n",
      "Epoch 00014: saving model to model_init_2021-04-1311_58_22.638350/model-00014-0.37003-0.86727-0.46794-0.83000.h5\n",
      "11/11 [==============================] - 44s 4s/step - loss: 0.3700 - categorical_accuracy: 0.8673 - val_loss: 0.4679 - val_categorical_accuracy: 0.8300\n",
      "Epoch 15/30\n",
      "11/11 [==============================] - ETA: 0s - loss: 0.3492 - categorical_accuracy: 0.8688\n",
      "Epoch 00015: saving model to model_init_2021-04-1311_58_22.638350/model-00015-0.34919-0.86878-0.55614-0.81000.h5\n",
      "11/11 [==============================] - 46s 4s/step - loss: 0.3492 - categorical_accuracy: 0.8688 - val_loss: 0.5561 - val_categorical_accuracy: 0.8100\n",
      "Epoch 16/30\n",
      "11/11 [==============================] - ETA: 0s - loss: 0.3360 - categorical_accuracy: 0.8748\n",
      "Epoch 00016: saving model to model_init_2021-04-1311_58_22.638350/model-00016-0.33603-0.87481-0.49715-0.80000.h5\n",
      "\n",
      "Epoch 00016: ReduceLROnPlateau reducing learning rate to 0.0002500000118743628.\n",
      "11/11 [==============================] - 44s 4s/step - loss: 0.3360 - categorical_accuracy: 0.8748 - val_loss: 0.4972 - val_categorical_accuracy: 0.8000\n",
      "Epoch 17/30\n",
      "11/11 [==============================] - ETA: 0s - loss: 0.2932 - categorical_accuracy: 0.8854\n",
      "Epoch 00017: saving model to model_init_2021-04-1311_58_22.638350/model-00017-0.29320-0.88537-0.48661-0.85000.h5\n",
      "11/11 [==============================] - 46s 4s/step - loss: 0.2932 - categorical_accuracy: 0.8854 - val_loss: 0.4866 - val_categorical_accuracy: 0.8500\n",
      "Epoch 18/30\n",
      "11/11 [==============================] - ETA: 0s - loss: 0.3074 - categorical_accuracy: 0.8718\n",
      "Epoch 00018: saving model to model_init_2021-04-1311_58_22.638350/model-00018-0.30742-0.87179-0.44005-0.89000.h5\n",
      "11/11 [==============================] - 45s 4s/step - loss: 0.3074 - categorical_accuracy: 0.8718 - val_loss: 0.4401 - val_categorical_accuracy: 0.8900\n",
      "Epoch 19/30\n",
      "11/11 [==============================] - ETA: 0s - loss: 0.3171 - categorical_accuracy: 0.8839\n",
      "Epoch 00019: saving model to model_init_2021-04-1311_58_22.638350/model-00019-0.31706-0.88386-0.46308-0.85000.h5\n",
      "11/11 [==============================] - 46s 4s/step - loss: 0.3171 - categorical_accuracy: 0.8839 - val_loss: 0.4631 - val_categorical_accuracy: 0.8500\n",
      "Epoch 20/30\n",
      "11/11 [==============================] - ETA: 0s - loss: 0.3492 - categorical_accuracy: 0.8808\n",
      "Epoch 00020: saving model to model_init_2021-04-1311_58_22.638350/model-00020-0.34917-0.88084-0.37783-0.87000.h5\n",
      "11/11 [==============================] - 45s 4s/step - loss: 0.3492 - categorical_accuracy: 0.8808 - val_loss: 0.3778 - val_categorical_accuracy: 0.8700\n",
      "Epoch 21/30\n",
      "11/11 [==============================] - ETA: 0s - loss: 0.2845 - categorical_accuracy: 0.8989\n",
      "Epoch 00021: saving model to model_init_2021-04-1311_58_22.638350/model-00021-0.28449-0.89894-0.44166-0.85000.h5\n",
      "11/11 [==============================] - 46s 4s/step - loss: 0.2845 - categorical_accuracy: 0.8989 - val_loss: 0.4417 - val_categorical_accuracy: 0.8500\n",
      "Epoch 22/30\n",
      "11/11 [==============================] - ETA: 0s - loss: 0.2999 - categorical_accuracy: 0.8854\n",
      "Epoch 00022: saving model to model_init_2021-04-1311_58_22.638350/model-00022-0.29986-0.88537-0.47167-0.83000.h5\n",
      "\n",
      "Epoch 00022: ReduceLROnPlateau reducing learning rate to 0.0001250000059371814.\n",
      "11/11 [==============================] - 45s 4s/step - loss: 0.2999 - categorical_accuracy: 0.8854 - val_loss: 0.4717 - val_categorical_accuracy: 0.8300\n",
      "Epoch 23/30\n",
      "11/11 [==============================] - ETA: 0s - loss: 0.2396 - categorical_accuracy: 0.9110\n",
      "Epoch 00023: saving model to model_init_2021-04-1311_58_22.638350/model-00023-0.23964-0.91101-0.44858-0.83000.h5\n",
      "11/11 [==============================] - 47s 4s/step - loss: 0.2396 - categorical_accuracy: 0.9110 - val_loss: 0.4486 - val_categorical_accuracy: 0.8300\n",
      "Epoch 24/30\n",
      "11/11 [==============================] - ETA: 0s - loss: 0.2553 - categorical_accuracy: 0.9125\n",
      "Epoch 00024: saving model to model_init_2021-04-1311_58_22.638350/model-00024-0.25529-0.91252-0.54356-0.79000.h5\n",
      "\n",
      "Epoch 00024: ReduceLROnPlateau reducing learning rate to 6.25000029685907e-05.\n",
      "11/11 [==============================] - 43s 4s/step - loss: 0.2553 - categorical_accuracy: 0.9125 - val_loss: 0.5436 - val_categorical_accuracy: 0.7900\n",
      "Epoch 25/30\n",
      "11/11 [==============================] - ETA: 0s - loss: 0.2731 - categorical_accuracy: 0.8959\n",
      "Epoch 00025: saving model to model_init_2021-04-1311_58_22.638350/model-00025-0.27309-0.89593-0.44022-0.83000.h5\n",
      "11/11 [==============================] - 46s 4s/step - loss: 0.2731 - categorical_accuracy: 0.8959 - val_loss: 0.4402 - val_categorical_accuracy: 0.8300\n",
      "Epoch 26/30\n",
      "11/11 [==============================] - ETA: 0s - loss: 0.2532 - categorical_accuracy: 0.9095\n",
      "Epoch 00026: saving model to model_init_2021-04-1311_58_22.638350/model-00026-0.25319-0.90950-0.48922-0.79000.h5\n",
      "\n",
      "Epoch 00026: ReduceLROnPlateau reducing learning rate to 3.125000148429535e-05.\n",
      "11/11 [==============================] - 45s 4s/step - loss: 0.2532 - categorical_accuracy: 0.9095 - val_loss: 0.4892 - val_categorical_accuracy: 0.7900\n",
      "Epoch 27/30\n",
      "11/11 [==============================] - ETA: 0s - loss: 0.2615 - categorical_accuracy: 0.8944\n",
      "Epoch 00027: saving model to model_init_2021-04-1311_58_22.638350/model-00027-0.26146-0.89442-0.43743-0.83000.h5\n",
      "11/11 [==============================] - 46s 4s/step - loss: 0.2615 - categorical_accuracy: 0.8944 - val_loss: 0.4374 - val_categorical_accuracy: 0.8300\n",
      "Epoch 28/30\n",
      "11/11 [==============================] - ETA: 0s - loss: 0.2668 - categorical_accuracy: 0.9035\n",
      "Epoch 00028: saving model to model_init_2021-04-1311_58_22.638350/model-00028-0.26678-0.90347-0.46606-0.80000.h5\n",
      "\n",
      "Epoch 00028: ReduceLROnPlateau reducing learning rate to 1.5625000742147677e-05.\n",
      "11/11 [==============================] - 45s 4s/step - loss: 0.2668 - categorical_accuracy: 0.9035 - val_loss: 0.4661 - val_categorical_accuracy: 0.8000\n",
      "Epoch 29/30\n",
      "11/11 [==============================] - ETA: 0s - loss: 0.2512 - categorical_accuracy: 0.9020\n",
      "Epoch 00029: saving model to model_init_2021-04-1311_58_22.638350/model-00029-0.25116-0.90196-0.43425-0.83000.h5\n",
      "11/11 [==============================] - 46s 4s/step - loss: 0.2512 - categorical_accuracy: 0.9020 - val_loss: 0.4343 - val_categorical_accuracy: 0.8300\n",
      "Epoch 30/30\n",
      "11/11 [==============================] - ETA: 0s - loss: 0.2671 - categorical_accuracy: 0.8989\n",
      "Epoch 00030: saving model to model_init_2021-04-1311_58_22.638350/model-00030-0.26711-0.89894-0.50052-0.80000.h5\n",
      "\n",
      "Epoch 00030: ReduceLROnPlateau reducing learning rate to 1e-05.\n",
      "11/11 [==============================] - 45s 4s/step - loss: 0.2671 - categorical_accuracy: 0.8989 - val_loss: 0.5005 - val_categorical_accuracy: 0.8000\n"
     ]
    },
    {
     "data": {
      "text/plain": [
       "<tensorflow.python.keras.callbacks.History at 0x7f2f8466c7f0>"
      ]
     },
     "execution_count": 19,
     "metadata": {},
     "output_type": "execute_result"
    }
   ],
   "source": [
    "model.fit_generator(train_generator, steps_per_epoch=steps_per_epoch, epochs=num_epochs, verbose=1, \n",
    "                    callbacks=callbacks_list, validation_data=val_generator, \n",
    "                    validation_steps=validation_steps, class_weight=None, workers=1, initial_epoch=0)"
   ]
  },
  {
   "cell_type": "code",
   "execution_count": null,
   "metadata": {},
   "outputs": [],
   "source": []
  }
 ],
 "metadata": {
  "kernelspec": {
   "display_name": "Python 3",
   "language": "python",
   "name": "python3"
  },
  "language_info": {
   "codemirror_mode": {
    "name": "ipython",
    "version": 3
   },
   "file_extension": ".py",
   "mimetype": "text/x-python",
   "name": "python",
   "nbconvert_exporter": "python",
   "pygments_lexer": "ipython3",
   "version": "3.6.9"
  }
 },
 "nbformat": 4,
 "nbformat_minor": 4
}
